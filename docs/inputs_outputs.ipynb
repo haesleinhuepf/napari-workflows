{
 "cells": [
  {
   "cell_type": "code",
   "execution_count": 1,
   "id": "3b987de5",
   "metadata": {},
   "outputs": [],
   "source": [
    "from napari_workflows import Workflow\n",
    "\n",
    "import pyclesperanto_prototype as cle"
   ]
  },
  {
   "cell_type": "markdown",
   "id": "64fe6332",
   "metadata": {},
   "source": [
    "First, we define a workflow and add operations to it."
   ]
  },
  {
   "cell_type": "code",
   "execution_count": 2,
   "id": "86b4a6bf",
   "metadata": {},
   "outputs": [],
   "source": [
    "w = Workflow()\n",
    "\n",
    "# define denoising\n",
    "w.set(\"denoised\", cle.gaussian_blur, \"input\", sigma_x=2, sigma_y=2)\n",
    "\n",
    "# define segmentation\n",
    "w.set(\"binarized\", cle.threshold_otsu, \"denoised\")\n",
    "\n",
    "# labeling\n",
    "w.set(\"labeled\", cle.label, \"binarized\")\n",
    "\n",
    "# background segmentation\n",
    "w.set(\"background\", cle.binary_not, \"binarized\")"
   ]
  },
  {
   "cell_type": "markdown",
   "id": "4d3f98a1-973d-4dba-b79a-f6e9f2f0d36a",
   "metadata": {},
   "source": [
    "We can then study details of the workflow such as inputs and outputs. The workflow is ideally a non-cyclic directional graph; a tree. Thus, we can ask it for its roots (input data) and leafs (output data)."
   ]
  },
  {
   "cell_type": "code",
   "execution_count": 3,
   "id": "606e067d-9ae1-4571-9e6c-fe830d24fa58",
   "metadata": {},
   "outputs": [
    {
     "data": {
      "text/plain": [
       "['input']"
      ]
     },
     "execution_count": 3,
     "metadata": {},
     "output_type": "execute_result"
    }
   ],
   "source": [
    "w.roots()"
   ]
  },
  {
   "cell_type": "code",
   "execution_count": 4,
   "id": "57d7b996-7673-4db5-b926-0c1c1af0c3ca",
   "metadata": {},
   "outputs": [
    {
     "data": {
      "text/plain": [
       "['labeled', 'background']"
      ]
     },
     "execution_count": 4,
     "metadata": {},
     "output_type": "execute_result"
    }
   ],
   "source": [
    "w.leafs()"
   ]
  },
  {
   "cell_type": "markdown",
   "id": "2533256f-3ce6-4826-9e20-6238689db141",
   "metadata": {},
   "source": [
    "We can also study for specific datasets what they are made of and what is made out of them."
   ]
  },
  {
   "cell_type": "code",
   "execution_count": 5,
   "id": "7c3375dc-0f23-4a54-bb52-fa40ea8e7f4a",
   "metadata": {},
   "outputs": [
    {
     "data": {
      "text/plain": [
       "['labeled', 'background']"
      ]
     },
     "execution_count": 5,
     "metadata": {},
     "output_type": "execute_result"
    }
   ],
   "source": [
    "w.followers_of(\"binarized\")"
   ]
  },
  {
   "cell_type": "code",
   "execution_count": 6,
   "id": "356f51f4-1b13-451a-a3e3-f343683aa3fe",
   "metadata": {},
   "outputs": [
    {
     "data": {
      "text/plain": [
       "['binarized']"
      ]
     },
     "execution_count": 6,
     "metadata": {},
     "output_type": "execute_result"
    }
   ],
   "source": [
    "w.sources_of(\"background\")"
   ]
  },
  {
   "cell_type": "code",
   "execution_count": null,
   "id": "0719a4c9-cfc8-4686-92f6-2d3d90010ab9",
   "metadata": {},
   "outputs": [],
   "source": []
  }
 ],
 "metadata": {
  "kernelspec": {
   "display_name": "Python 3 (ipykernel)",
   "language": "python",
   "name": "python3"
  },
  "language_info": {
   "codemirror_mode": {
    "name": "ipython",
    "version": 3
   },
   "file_extension": ".py",
   "mimetype": "text/x-python",
   "name": "python",
   "nbconvert_exporter": "python",
   "pygments_lexer": "ipython3",
   "version": "3.9.13"
  }
 },
 "nbformat": 4,
 "nbformat_minor": 5
}
